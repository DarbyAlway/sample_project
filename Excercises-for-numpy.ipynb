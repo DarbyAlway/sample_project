{
 "cells": [
  {
   "cell_type": "code",
   "execution_count": 2,
   "id": "2e47f64c-b195-4285-ac11-1213343577ed",
   "metadata": {},
   "outputs": [],
   "source": [
    "import numpy as np\n",
    "import pandas as pd\n",
    "np.random.seed(100)\n",
    "\n",
    "sales_amounts = np.random.randint(10,size = (5,5))"
   ]
  },
  {
   "cell_type": "code",
   "execution_count": 3,
   "id": "d8311d12-d673-49b3-8ced-621071712c49",
   "metadata": {},
   "outputs": [
    {
     "data": {
      "text/plain": [
       "array([[8, 8, 3, 7, 7],\n",
       "       [0, 4, 2, 5, 2],\n",
       "       [2, 2, 1, 0, 8],\n",
       "       [4, 0, 9, 6, 2],\n",
       "       [4, 1, 5, 3, 4]])"
      ]
     },
     "execution_count": 3,
     "metadata": {},
     "output_type": "execute_result"
    }
   ],
   "source": [
    "sales_amounts"
   ]
  },
  {
   "cell_type": "code",
   "execution_count": 8,
   "id": "a2ed325e-51da-4898-b3b0-a1dfa245433f",
   "metadata": {},
   "outputs": [
    {
     "data": {
      "text/html": [
       "<div>\n",
       "<style scoped>\n",
       "    .dataframe tbody tr th:only-of-type {\n",
       "        vertical-align: middle;\n",
       "    }\n",
       "\n",
       "    .dataframe tbody tr th {\n",
       "        vertical-align: top;\n",
       "    }\n",
       "\n",
       "    .dataframe thead th {\n",
       "        text-align: right;\n",
       "    }\n",
       "</style>\n",
       "<table border=\"1\" class=\"dataframe\">\n",
       "  <thead>\n",
       "    <tr style=\"text-align: right;\">\n",
       "      <th></th>\n",
       "      <th>GPU</th>\n",
       "      <th>PC</th>\n",
       "      <th>CPU</th>\n",
       "      <th>Phone</th>\n",
       "      <th>Mouse</th>\n",
       "    </tr>\n",
       "  </thead>\n",
       "  <tbody>\n",
       "    <tr>\n",
       "      <th>Mon</th>\n",
       "      <td>8</td>\n",
       "      <td>8</td>\n",
       "      <td>3</td>\n",
       "      <td>7</td>\n",
       "      <td>7</td>\n",
       "    </tr>\n",
       "    <tr>\n",
       "      <th>Tues</th>\n",
       "      <td>0</td>\n",
       "      <td>4</td>\n",
       "      <td>2</td>\n",
       "      <td>5</td>\n",
       "      <td>2</td>\n",
       "    </tr>\n",
       "    <tr>\n",
       "      <th>Wed</th>\n",
       "      <td>2</td>\n",
       "      <td>2</td>\n",
       "      <td>1</td>\n",
       "      <td>0</td>\n",
       "      <td>8</td>\n",
       "    </tr>\n",
       "    <tr>\n",
       "      <th>Thurs</th>\n",
       "      <td>4</td>\n",
       "      <td>0</td>\n",
       "      <td>9</td>\n",
       "      <td>6</td>\n",
       "      <td>2</td>\n",
       "    </tr>\n",
       "    <tr>\n",
       "      <th>Fri</th>\n",
       "      <td>4</td>\n",
       "      <td>1</td>\n",
       "      <td>5</td>\n",
       "      <td>3</td>\n",
       "      <td>4</td>\n",
       "    </tr>\n",
       "  </tbody>\n",
       "</table>\n",
       "</div>"
      ],
      "text/plain": [
       "       GPU  PC  CPU  Phone  Mouse\n",
       "Mon      8   8    3      7      7\n",
       "Tues     0   4    2      5      2\n",
       "Wed      2   2    1      0      8\n",
       "Thurs    4   0    9      6      2\n",
       "Fri      4   1    5      3      4"
      ]
     },
     "execution_count": 8,
     "metadata": {},
     "output_type": "execute_result"
    }
   ],
   "source": [
    "weekly_sales = pd.DataFrame(sales_amounts,index= [\"Mon\",\"Tues\",\"Wed\",\"Thurs\",\"Fri\"],\n",
    "                            columns=[\"GPU\",'PC','CPU',\"Phone\",\"Mouse\"])\n",
    "weekly_sales"
   ]
  },
  {
   "cell_type": "code",
   "execution_count": 14,
   "id": "d6f1008a-fe91-4f14-ba03-7a628d906f1b",
   "metadata": {},
   "outputs": [
    {
     "data": {
      "text/plain": [
       "(5,)"
      ]
     },
     "execution_count": 14,
     "metadata": {},
     "output_type": "execute_result"
    }
   ],
   "source": [
    "prices = np.array([100,200,300,500,299])\n",
    "prices.shape"
   ]
  },
  {
   "cell_type": "code",
   "execution_count": 15,
   "id": "58b86e76-7f80-4863-ad6a-e3cea0deb4f2",
   "metadata": {},
   "outputs": [
    {
     "data": {
      "text/html": [
       "<div>\n",
       "<style scoped>\n",
       "    .dataframe tbody tr th:only-of-type {\n",
       "        vertical-align: middle;\n",
       "    }\n",
       "\n",
       "    .dataframe tbody tr th {\n",
       "        vertical-align: top;\n",
       "    }\n",
       "\n",
       "    .dataframe thead th {\n",
       "        text-align: right;\n",
       "    }\n",
       "</style>\n",
       "<table border=\"1\" class=\"dataframe\">\n",
       "  <thead>\n",
       "    <tr style=\"text-align: right;\">\n",
       "      <th></th>\n",
       "      <th>GPU</th>\n",
       "      <th>PC</th>\n",
       "      <th>CPU</th>\n",
       "      <th>Phone</th>\n",
       "      <th>Mouse</th>\n",
       "    </tr>\n",
       "  </thead>\n",
       "  <tbody>\n",
       "    <tr>\n",
       "      <th>Prices</th>\n",
       "      <td>100</td>\n",
       "      <td>200</td>\n",
       "      <td>300</td>\n",
       "      <td>500</td>\n",
       "      <td>299</td>\n",
       "    </tr>\n",
       "  </tbody>\n",
       "</table>\n",
       "</div>"
      ],
      "text/plain": [
       "        GPU   PC  CPU  Phone  Mouse\n",
       "Prices  100  200  300    500    299"
      ]
     },
     "execution_count": 15,
     "metadata": {},
     "output_type": "execute_result"
    }
   ],
   "source": [
    "electronic_prices = pd.DataFrame(prices.reshape(1,5),index = ['Prices'],\n",
    "                                 columns = [\"GPU\",'PC','CPU',\"Phone\",\"Mouse\"])\n",
    "electronic_prices"
   ]
  },
  {
   "cell_type": "code",
   "execution_count": 24,
   "id": "271c29a0-1c77-47e2-8f2c-1b2309571760",
   "metadata": {},
   "outputs": [
    {
     "data": {
      "text/plain": [
       "array([[8893],\n",
       "       [4498],\n",
       "       [3292],\n",
       "       [6698],\n",
       "       [4796]])"
      ]
     },
     "execution_count": 24,
     "metadata": {},
     "output_type": "execute_result"
    }
   ],
   "source": [
    "total_sales = sales_amounts.dot(electronic_prices.T)\n",
    "total_sales"
   ]
  },
  {
   "cell_type": "code",
   "execution_count": 25,
   "id": "e43adec0-d589-4bed-9be1-d6fc703e4e21",
   "metadata": {},
   "outputs": [
    {
     "data": {
      "text/plain": [
       "array([[8893, 4498, 3292, 6698, 4796]])"
      ]
     },
     "execution_count": 25,
     "metadata": {},
     "output_type": "execute_result"
    }
   ],
   "source": [
    "total_sales.T"
   ]
  },
  {
   "cell_type": "code",
   "execution_count": 31,
   "id": "6aece36b-b458-49f6-9087-1e4081aaaa5b",
   "metadata": {},
   "outputs": [
    {
     "data": {
      "text/html": [
       "<div>\n",
       "<style scoped>\n",
       "    .dataframe tbody tr th:only-of-type {\n",
       "        vertical-align: middle;\n",
       "    }\n",
       "\n",
       "    .dataframe tbody tr th {\n",
       "        vertical-align: top;\n",
       "    }\n",
       "\n",
       "    .dataframe thead th {\n",
       "        text-align: right;\n",
       "    }\n",
       "</style>\n",
       "<table border=\"1\" class=\"dataframe\">\n",
       "  <thead>\n",
       "    <tr style=\"text-align: right;\">\n",
       "      <th></th>\n",
       "      <th>Mon</th>\n",
       "      <th>Tues</th>\n",
       "      <th>Wed</th>\n",
       "      <th>Thurs</th>\n",
       "      <th>Fri</th>\n",
       "    </tr>\n",
       "  </thead>\n",
       "  <tbody>\n",
       "    <tr>\n",
       "      <th>Prices</th>\n",
       "      <td>8893</td>\n",
       "      <td>4498</td>\n",
       "      <td>3292</td>\n",
       "      <td>6698</td>\n",
       "      <td>4796</td>\n",
       "    </tr>\n",
       "  </tbody>\n",
       "</table>\n",
       "</div>"
      ],
      "text/plain": [
       "         Mon  Tues   Wed  Thurs   Fri\n",
       "Prices  8893  4498  3292   6698  4796"
      ]
     },
     "execution_count": 31,
     "metadata": {},
     "output_type": "execute_result"
    }
   ],
   "source": [
    "daily_sales = electronic_prices.dot(weekly_sales.T)\n",
    "daily_sales"
   ]
  },
  {
   "cell_type": "code",
   "execution_count": 33,
   "id": "e01e516c-a969-4969-a9ea-ee7df4775f0c",
   "metadata": {},
   "outputs": [
    {
     "data": {
      "text/html": [
       "<div>\n",
       "<style scoped>\n",
       "    .dataframe tbody tr th:only-of-type {\n",
       "        vertical-align: middle;\n",
       "    }\n",
       "\n",
       "    .dataframe tbody tr th {\n",
       "        vertical-align: top;\n",
       "    }\n",
       "\n",
       "    .dataframe thead th {\n",
       "        text-align: right;\n",
       "    }\n",
       "</style>\n",
       "<table border=\"1\" class=\"dataframe\">\n",
       "  <thead>\n",
       "    <tr style=\"text-align: right;\">\n",
       "      <th></th>\n",
       "      <th>GPU</th>\n",
       "      <th>PC</th>\n",
       "      <th>CPU</th>\n",
       "      <th>Phone</th>\n",
       "      <th>Mouse</th>\n",
       "      <th>Total ($)</th>\n",
       "    </tr>\n",
       "  </thead>\n",
       "  <tbody>\n",
       "    <tr>\n",
       "      <th>Mon</th>\n",
       "      <td>8</td>\n",
       "      <td>8</td>\n",
       "      <td>3</td>\n",
       "      <td>7</td>\n",
       "      <td>7</td>\n",
       "      <td>8893</td>\n",
       "    </tr>\n",
       "    <tr>\n",
       "      <th>Tues</th>\n",
       "      <td>0</td>\n",
       "      <td>4</td>\n",
       "      <td>2</td>\n",
       "      <td>5</td>\n",
       "      <td>2</td>\n",
       "      <td>4498</td>\n",
       "    </tr>\n",
       "    <tr>\n",
       "      <th>Wed</th>\n",
       "      <td>2</td>\n",
       "      <td>2</td>\n",
       "      <td>1</td>\n",
       "      <td>0</td>\n",
       "      <td>8</td>\n",
       "      <td>3292</td>\n",
       "    </tr>\n",
       "    <tr>\n",
       "      <th>Thurs</th>\n",
       "      <td>4</td>\n",
       "      <td>0</td>\n",
       "      <td>9</td>\n",
       "      <td>6</td>\n",
       "      <td>2</td>\n",
       "      <td>6698</td>\n",
       "    </tr>\n",
       "    <tr>\n",
       "      <th>Fri</th>\n",
       "      <td>4</td>\n",
       "      <td>1</td>\n",
       "      <td>5</td>\n",
       "      <td>3</td>\n",
       "      <td>4</td>\n",
       "      <td>4796</td>\n",
       "    </tr>\n",
       "  </tbody>\n",
       "</table>\n",
       "</div>"
      ],
      "text/plain": [
       "       GPU  PC  CPU  Phone  Mouse  Total ($)\n",
       "Mon      8   8    3      7      7       8893\n",
       "Tues     0   4    2      5      2       4498\n",
       "Wed      2   2    1      0      8       3292\n",
       "Thurs    4   0    9      6      2       6698\n",
       "Fri      4   1    5      3      4       4796"
      ]
     },
     "execution_count": 33,
     "metadata": {},
     "output_type": "execute_result"
    }
   ],
   "source": [
    "weekly_sales[\"Total ($)\"] = daily_sales.T\n",
    "weekly_sales"
   ]
  },
  {
   "cell_type": "code",
   "execution_count": 34,
   "id": "e36ee0e2-d0a6-4371-9c22-0b4d47fb044e",
   "metadata": {},
   "outputs": [],
   "source": [
    "import numpy as np"
   ]
  },
  {
   "cell_type": "code",
   "execution_count": 36,
   "id": "9042e7f7-ecbe-4411-842e-c46ba88a9794",
   "metadata": {},
   "outputs": [],
   "source": [
    "one_d_array = np.array([1,2,3])"
   ]
  },
  {
   "cell_type": "code",
   "execution_count": 37,
   "id": "f0a3bdb8-bce1-442f-8163-db66872bb800",
   "metadata": {},
   "outputs": [],
   "source": [
    "two_d_array = np.array([[1,2,3,4],\n",
    "                        [5,6,7,3]])"
   ]
  },
  {
   "cell_type": "code",
   "execution_count": 43,
   "id": "bf6c9b49-9e72-4402-9eae-5f61a912e920",
   "metadata": {},
   "outputs": [],
   "source": [
    "three_d_array = np.array([[[1,2,3,4],\n",
    "                           [5,6,3,5],\n",
    "                           [3,4,5,6]]])"
   ]
  },
  {
   "cell_type": "code",
   "execution_count": 46,
   "id": "88cdf1a9-424d-4724-8277-ed517b4ae57f",
   "metadata": {},
   "outputs": [
    {
     "data": {
      "text/plain": [
       "((3,), 1, dtype('int32'), 3, numpy.ndarray)"
      ]
     },
     "execution_count": 46,
     "metadata": {},
     "output_type": "execute_result"
    }
   ],
   "source": [
    "one_d_array.shape,one_d_array.ndim,one_d_array.dtype,one_d_array.size,type(one_d_array)"
   ]
  },
  {
   "cell_type": "code",
   "execution_count": 47,
   "id": "11568b29-8b26-4c85-b4cc-d30eaa92bd64",
   "metadata": {},
   "outputs": [
    {
     "data": {
      "text/plain": [
       "((2, 4), 2, dtype('int32'), 8, numpy.ndarray)"
      ]
     },
     "execution_count": 47,
     "metadata": {},
     "output_type": "execute_result"
    }
   ],
   "source": [
    "two_d_array.shape,two_d_array.ndim,two_d_array.dtype,two_d_array.size,type(two_d_array)"
   ]
  },
  {
   "cell_type": "code",
   "execution_count": 48,
   "id": "a90b4ecc-6fb2-454d-8f4b-86588cbd1785",
   "metadata": {},
   "outputs": [
    {
     "data": {
      "text/plain": [
       "((1, 3, 4), 3, dtype('int32'), 12, numpy.ndarray)"
      ]
     },
     "execution_count": 48,
     "metadata": {},
     "output_type": "execute_result"
    }
   ],
   "source": [
    "three_d_array.shape,three_d_array.ndim,three_d_array.dtype,three_d_array.size,type(three_d_array)"
   ]
  },
  {
   "cell_type": "code",
   "execution_count": 54,
   "id": "f2241377-6d7a-49d4-ba9f-377f64e1fc1c",
   "metadata": {},
   "outputs": [
    {
     "data": {
      "text/html": [
       "<div>\n",
       "<style scoped>\n",
       "    .dataframe tbody tr th:only-of-type {\n",
       "        vertical-align: middle;\n",
       "    }\n",
       "\n",
       "    .dataframe tbody tr th {\n",
       "        vertical-align: top;\n",
       "    }\n",
       "\n",
       "    .dataframe thead th {\n",
       "        text-align: right;\n",
       "    }\n",
       "</style>\n",
       "<table border=\"1\" class=\"dataframe\">\n",
       "  <thead>\n",
       "    <tr style=\"text-align: right;\">\n",
       "      <th></th>\n",
       "      <th>0</th>\n",
       "    </tr>\n",
       "  </thead>\n",
       "  <tbody>\n",
       "    <tr>\n",
       "      <th>0</th>\n",
       "      <td>1</td>\n",
       "    </tr>\n",
       "    <tr>\n",
       "      <th>1</th>\n",
       "      <td>2</td>\n",
       "    </tr>\n",
       "    <tr>\n",
       "      <th>2</th>\n",
       "      <td>3</td>\n",
       "    </tr>\n",
       "  </tbody>\n",
       "</table>\n",
       "</div>"
      ],
      "text/plain": [
       "   0\n",
       "0  1\n",
       "1  2\n",
       "2  3"
      ]
     },
     "execution_count": 54,
     "metadata": {},
     "output_type": "execute_result"
    }
   ],
   "source": [
    "import pandas as pd\n",
    "df1 = pd.DataFrame(one_d_array)\n",
    "df1"
   ]
  },
  {
   "cell_type": "code",
   "execution_count": 57,
   "id": "d9357c40-9580-494c-addb-cd992009a2ee",
   "metadata": {},
   "outputs": [
    {
     "data": {
      "text/plain": [
       "array([[1., 1.],\n",
       "       [1., 1.],\n",
       "       [1., 1.],\n",
       "       [1., 1.],\n",
       "       [1., 1.],\n",
       "       [1., 1.],\n",
       "       [1., 1.],\n",
       "       [1., 1.],\n",
       "       [1., 1.],\n",
       "       [1., 1.]])"
      ]
     },
     "execution_count": 57,
     "metadata": {},
     "output_type": "execute_result"
    }
   ],
   "source": [
    "ones = np.ones((10,2))\n",
    "ones"
   ]
  },
  {
   "cell_type": "code",
   "execution_count": 59,
   "id": "b35be5fa-c499-497e-8970-f6f8277fd20e",
   "metadata": {},
   "outputs": [
    {
     "data": {
      "text/plain": [
       "array([[[0., 0., 0.],\n",
       "        [0., 0., 0.]],\n",
       "\n",
       "       [[0., 0., 0.],\n",
       "        [0., 0., 0.]],\n",
       "\n",
       "       [[0., 0., 0.],\n",
       "        [0., 0., 0.]],\n",
       "\n",
       "       [[0., 0., 0.],\n",
       "        [0., 0., 0.]],\n",
       "\n",
       "       [[0., 0., 0.],\n",
       "        [0., 0., 0.]],\n",
       "\n",
       "       [[0., 0., 0.],\n",
       "        [0., 0., 0.]],\n",
       "\n",
       "       [[0., 0., 0.],\n",
       "        [0., 0., 0.]]])"
      ]
     },
     "execution_count": 59,
     "metadata": {},
     "output_type": "execute_result"
    }
   ],
   "source": [
    "zeros = np.zeros((7,2,3))\n",
    "zeros"
   ]
  },
  {
   "cell_type": "code",
   "execution_count": 61,
   "id": "d751e7f6-f84d-48b2-8517-938010ed51f3",
   "metadata": {},
   "outputs": [
    {
     "data": {
      "text/plain": [
       "array([ 0,  3,  6,  9, 12, 15, 18, 21, 24, 27, 30, 33, 36, 39, 42, 45, 48,\n",
       "       51, 54, 57, 60, 63, 66, 69, 72, 75, 78, 81, 84, 87, 90, 93, 96, 99])"
      ]
     },
     "execution_count": 61,
     "metadata": {},
     "output_type": "execute_result"
    }
   ],
   "source": [
    "array_step_three = np.arange(0,100,3)\n",
    "array_step_three"
   ]
  },
  {
   "cell_type": "code",
   "execution_count": 66,
   "id": "0ac8d2af-8507-4639-9218-5b71961e74b8",
   "metadata": {},
   "outputs": [
    {
     "data": {
      "text/plain": [
       "array([[8, 1],\n",
       "       [0, 7],\n",
       "       [6, 2],\n",
       "       [0, 8],\n",
       "       [2, 5],\n",
       "       [1, 8],\n",
       "       [1, 5]])"
      ]
     },
     "execution_count": 66,
     "metadata": {},
     "output_type": "execute_result"
    }
   ],
   "source": [
    "random_array = np.random.randint(10,size = (7,2))\n",
    "random_array"
   ]
  },
  {
   "cell_type": "code",
   "execution_count": 69,
   "id": "e2bfd7a3-c13e-4983-b81c-b5243ed1a5cd",
   "metadata": {},
   "outputs": [
    {
     "data": {
      "text/plain": [
       "array([[0.64027806, 0.62477951, 0.14550751, 0.5702159 , 0.0651125 ],\n",
       "       [0.31341257, 0.21706577, 0.52695039, 0.42710838, 0.98263043],\n",
       "       [0.14045149, 0.7484116 , 0.78884039, 0.73039662, 0.84561834]])"
      ]
     },
     "execution_count": 69,
     "metadata": {},
     "output_type": "execute_result"
    }
   ],
   "source": [
    "\n",
    "random_array_float = np.random.random(size=(3,5))\n",
    "random_array_float"
   ]
  },
  {
   "cell_type": "code",
   "execution_count": 72,
   "id": "c1bb6331-3208-44cd-a6de-91c99e057133",
   "metadata": {},
   "outputs": [
    {
     "data": {
      "text/plain": [
       "array([[6, 3, 7, 4, 6, 9],\n",
       "       [2, 6, 7, 4, 3, 7],\n",
       "       [7, 2, 5, 4, 1, 7],\n",
       "       [5, 1, 4, 0, 9, 5]])"
      ]
     },
     "execution_count": 72,
     "metadata": {},
     "output_type": "execute_result"
    }
   ],
   "source": [
    "np.random.seed(42)\n",
    "random_array_numbers = np.random.randint(10 , size = (4,6))\n",
    "random_array_numbers"
   ]
  },
  {
   "cell_type": "code",
   "execution_count": 76,
   "id": "5066875a-09a2-4422-a0be-b704912b0f3a",
   "metadata": {},
   "outputs": [
    {
     "data": {
      "text/plain": [
       "array([0, 1, 2, 4, 6, 7, 8, 9])"
      ]
     },
     "execution_count": 76,
     "metadata": {},
     "output_type": "execute_result"
    }
   ],
   "source": [
    "array = np.random.randint(10,size=(3,7))\n",
    "array\n",
    "np.unique(array)"
   ]
  },
  {
   "cell_type": "code",
   "execution_count": 80,
   "id": "05bfbb5d-e6e0-413d-a3f5-50313729717d",
   "metadata": {},
   "outputs": [
    {
     "data": {
      "text/plain": [
       "array([[0, 7, 2, 2, 0, 4, 9],\n",
       "       [6, 9, 8, 6, 8, 7, 1]])"
      ]
     },
     "execution_count": 80,
     "metadata": {},
     "output_type": "execute_result"
    }
   ],
   "source": [
    "array[:2]"
   ]
  },
  {
   "cell_type": "code",
   "execution_count": 85,
   "id": "4765d431-6716-4c7d-a3a2-dd3b2a8b430e",
   "metadata": {},
   "outputs": [],
   "source": [
    "rand_arr = np.random.randint(10,size = (3,5))\n",
    "ones1 = np.ones((3,5))"
   ]
  },
  {
   "cell_type": "code",
   "execution_count": 86,
   "id": "d3c46a6a-097b-4eb2-acf1-e517c0abfc3f",
   "metadata": {},
   "outputs": [
    {
     "data": {
      "text/plain": [
       "array([[ 6.,  4., 10.,  7.,  9.],\n",
       "       [ 7.,  1.,  1.,  9.,  9.],\n",
       "       [ 4.,  9.,  3.,  7.,  6.]])"
      ]
     },
     "execution_count": 86,
     "metadata": {},
     "output_type": "execute_result"
    }
   ],
   "source": [
    "rand_arr + ones1"
   ]
  },
  {
   "cell_type": "code",
   "execution_count": 87,
   "id": "4fc8f7c2-a4a2-43f9-bfe5-88dffe943114",
   "metadata": {},
   "outputs": [],
   "source": [
    "another_array = np.ones((5,3))"
   ]
  },
  {
   "cell_type": "code",
   "execution_count": 100,
   "id": "c0fffd03-844f-4b6a-8e78-61f7ccdd9f06",
   "metadata": {},
   "outputs": [],
   "source": [
    "results_array = rand_arr + ones1 + another_array.T"
   ]
  },
  {
   "cell_type": "code",
   "execution_count": 93,
   "id": "ada28df9-725e-4f75-b0f1-3513160b1461",
   "metadata": {},
   "outputs": [
    {
     "data": {
      "text/plain": [
       "array([[1., 1., 1., 1., 1.],\n",
       "       [1., 1., 1., 1., 1.],\n",
       "       [1., 1., 1., 1., 1.]])"
      ]
     },
     "execution_count": 93,
     "metadata": {},
     "output_type": "execute_result"
    }
   ],
   "source": [
    "ones2 = np.ones((3,5))\n",
    "ones2"
   ]
  },
  {
   "cell_type": "code",
   "execution_count": 92,
   "id": "5a97dcdc-0b70-4bbb-9852-88c5de3a36a4",
   "metadata": {},
   "outputs": [
    {
     "data": {
      "text/plain": [
       "array([[0., 0., 0., 0., 0.],\n",
       "       [0., 0., 0., 0., 0.],\n",
       "       [0., 0., 0., 0., 0.]])"
      ]
     },
     "execution_count": 92,
     "metadata": {},
     "output_type": "execute_result"
    }
   ],
   "source": [
    "ones2 - another_array.T"
   ]
  },
  {
   "cell_type": "code",
   "execution_count": 94,
   "id": "dd186e02-6d88-4f2f-91c2-47ef1bc55807",
   "metadata": {},
   "outputs": [
    {
     "data": {
      "text/plain": [
       "array([[1., 1., 1., 1., 1.],\n",
       "       [1., 1., 1., 1., 1.],\n",
       "       [1., 1., 1., 1., 1.]])"
      ]
     },
     "execution_count": 94,
     "metadata": {},
     "output_type": "execute_result"
    }
   ],
   "source": [
    "ones2 * another_array.T"
   ]
  },
  {
   "cell_type": "code",
   "execution_count": 95,
   "id": "f562232d-0cc7-4d59-837c-d7af240b16b8",
   "metadata": {},
   "outputs": [
    {
     "data": {
      "text/plain": [
       "array([[1., 1., 1., 1., 1.],\n",
       "       [1., 1., 1., 1., 1.],\n",
       "       [1., 1., 1., 1., 1.]])"
      ]
     },
     "execution_count": 95,
     "metadata": {},
     "output_type": "execute_result"
    }
   ],
   "source": [
    "ones2 ** 2"
   ]
  },
  {
   "cell_type": "code",
   "execution_count": 97,
   "id": "98e0e02d-ce10-43b5-9d08-5759d4dd4d3e",
   "metadata": {},
   "outputs": [
    {
     "data": {
      "text/plain": [
       "array([[1., 1., 1., 1., 1.],\n",
       "       [1., 1., 1., 1., 1.],\n",
       "       [1., 1., 1., 1., 1.]])"
      ]
     },
     "execution_count": 97,
     "metadata": {},
     "output_type": "execute_result"
    }
   ],
   "source": [
    "np.square(ones2)"
   ]
  },
  {
   "cell_type": "code",
   "execution_count": 99,
   "id": "01df7a00-854b-4b06-8495-72f9c140c029",
   "metadata": {},
   "outputs": [
    {
     "data": {
      "text/plain": [
       "1.0"
      ]
     },
     "execution_count": 99,
     "metadata": {},
     "output_type": "execute_result"
    }
   ],
   "source": [
    "np.mean(ones2)"
   ]
  },
  {
   "cell_type": "code",
   "execution_count": 101,
   "id": "85b0e3c8-3157-44e9-8073-ba5c5f8e3c69",
   "metadata": {},
   "outputs": [
    {
     "data": {
      "text/plain": [
       "11.0"
      ]
     },
     "execution_count": 101,
     "metadata": {},
     "output_type": "execute_result"
    }
   ],
   "source": [
    "np.max(results_array)"
   ]
  },
  {
   "cell_type": "code",
   "execution_count": 102,
   "id": "18ad6880-f994-4bbe-956b-4e5ed7714e38",
   "metadata": {},
   "outputs": [
    {
     "data": {
      "text/plain": [
       "array([[ 7.,  5., 11.,  8., 10.],\n",
       "       [ 8.,  2.,  2., 10., 10.],\n",
       "       [ 5., 10.,  4.,  8.,  7.]])"
      ]
     },
     "execution_count": 102,
     "metadata": {},
     "output_type": "execute_result"
    }
   ],
   "source": [
    "results_array"
   ]
  },
  {
   "cell_type": "code",
   "execution_count": 103,
   "id": "427de239-4290-4fb4-99a0-246c477e6b38",
   "metadata": {},
   "outputs": [
    {
     "data": {
      "text/plain": [
       "2.0"
      ]
     },
     "execution_count": 103,
     "metadata": {},
     "output_type": "execute_result"
    }
   ],
   "source": [
    "np.min(results_array)"
   ]
  },
  {
   "cell_type": "code",
   "execution_count": 104,
   "id": "6a5907a0-7151-4173-a968-835820746b4a",
   "metadata": {},
   "outputs": [
    {
     "data": {
      "text/plain": [
       "2.8487814158961995"
      ]
     },
     "execution_count": 104,
     "metadata": {},
     "output_type": "execute_result"
    }
   ],
   "source": [
    "np.std(results_array)"
   ]
  },
  {
   "cell_type": "code",
   "execution_count": 106,
   "id": "d0ccb258-053c-4aee-aede-50cb6e1c0d55",
   "metadata": {},
   "outputs": [
    {
     "data": {
      "text/plain": [
       "8.115555555555554"
      ]
     },
     "execution_count": 106,
     "metadata": {},
     "output_type": "execute_result"
    }
   ],
   "source": [
    "np.var(results_array)"
   ]
  },
  {
   "cell_type": "code",
   "execution_count": 107,
   "id": "f4bc1ad7-01b3-4eef-a3e4-c92d36f3be31",
   "metadata": {},
   "outputs": [
    {
     "data": {
      "text/plain": [
       "array([[[ 7.],\n",
       "        [ 5.],\n",
       "        [11.],\n",
       "        [ 8.],\n",
       "        [10.]],\n",
       "\n",
       "       [[ 8.],\n",
       "        [ 2.],\n",
       "        [ 2.],\n",
       "        [10.],\n",
       "        [10.]],\n",
       "\n",
       "       [[ 5.],\n",
       "        [10.],\n",
       "        [ 4.],\n",
       "        [ 8.],\n",
       "        [ 7.]]])"
      ]
     },
     "execution_count": 107,
     "metadata": {},
     "output_type": "execute_result"
    }
   ],
   "source": [
    "results_array.reshape(3,5,1)"
   ]
  },
  {
   "cell_type": "code",
   "execution_count": 108,
   "id": "fd4be16a-762b-4c3c-bd56-918d141d4e31",
   "metadata": {},
   "outputs": [
    {
     "data": {
      "text/plain": [
       "array([[ 7.,  8.,  5.],\n",
       "       [ 5.,  2., 10.],\n",
       "       [11.,  2.,  4.],\n",
       "       [ 8., 10.,  8.],\n",
       "       [10., 10.,  7.]])"
      ]
     },
     "execution_count": 108,
     "metadata": {},
     "output_type": "execute_result"
    }
   ],
   "source": [
    "results_array.T"
   ]
  },
  {
   "cell_type": "code",
   "execution_count": 110,
   "id": "82676322-bdef-4c34-9cba-7663a47ac7cb",
   "metadata": {},
   "outputs": [],
   "source": [
    "array1 = np.random.randint(10,size = (3,3))\n",
    "array2 = np.random.randint(10,size = (3,2))"
   ]
  },
  {
   "cell_type": "code",
   "execution_count": 111,
   "id": "ef59715a-af8e-48c1-962a-be0b8fb7c677",
   "metadata": {},
   "outputs": [
    {
     "data": {
      "text/plain": [
       "array([[ 0, 53],\n",
       "       [ 0, 63],\n",
       "       [ 0, 31]])"
      ]
     },
     "execution_count": 111,
     "metadata": {},
     "output_type": "execute_result"
    }
   ],
   "source": [
    "array1.dot(array2)"
   ]
  },
  {
   "cell_type": "code",
   "execution_count": 112,
   "id": "922a880b-a597-43d1-9bf5-a15cfbe975d7",
   "metadata": {},
   "outputs": [],
   "source": [
    "array3 = np.random.randint(10,size = (4,3))\n",
    "array4 = np.random.randint(10,size = (4,3))"
   ]
  },
  {
   "cell_type": "code",
   "execution_count": 114,
   "id": "e1bc9594-3354-494c-b0d0-841a5f5f9454",
   "metadata": {},
   "outputs": [
    {
     "data": {
      "text/plain": [
       "array([[39, 32, 26, 31],\n",
       "       [48, 42, 58, 26],\n",
       "       [12,  5, 11, 15],\n",
       "       [81, 53, 79, 74]])"
      ]
     },
     "execution_count": 114,
     "metadata": {},
     "output_type": "execute_result"
    }
   ],
   "source": [
    "array3.dot(array4.T)"
   ]
  },
  {
   "cell_type": "code",
   "execution_count": 115,
   "id": "b7644031-fc02-4722-bd95-dc9eb65462ef",
   "metadata": {},
   "outputs": [],
   "source": [
    "array5 = np.random.randint(10,size = (3,3))\n",
    "array6 = np.random.randint(10,size = (3,3))"
   ]
  },
  {
   "cell_type": "code",
   "execution_count": 116,
   "id": "f9806127-6fad-4e74-a587-a340b41028cf",
   "metadata": {},
   "outputs": [
    {
     "data": {
      "text/plain": [
       "array([[False,  True, False],\n",
       "       [False, False,  True],\n",
       "       [False,  True,  True]])"
      ]
     },
     "execution_count": 116,
     "metadata": {},
     "output_type": "execute_result"
    }
   ],
   "source": [
    "array5 > array6"
   ]
  },
  {
   "cell_type": "code",
   "execution_count": 117,
   "id": "92127ef2-29ec-41df-9be7-6d3c2c5f8b8b",
   "metadata": {},
   "outputs": [
    {
     "data": {
      "text/plain": [
       "array([[False,  True, False],\n",
       "       [False, False,  True],\n",
       "       [False,  True,  True]])"
      ]
     },
     "execution_count": 117,
     "metadata": {},
     "output_type": "execute_result"
    }
   ],
   "source": [
    "array5 >= array6"
   ]
  },
  {
   "cell_type": "code",
   "execution_count": 118,
   "id": "806e3921-d504-4032-aa28-58ba49c59602",
   "metadata": {},
   "outputs": [
    {
     "data": {
      "text/plain": [
       "array([[ True, False, False],\n",
       "       [False,  True, False],\n",
       "       [False, False, False]])"
      ]
     },
     "execution_count": 118,
     "metadata": {},
     "output_type": "execute_result"
    }
   ],
   "source": [
    "array1 > 7"
   ]
  },
  {
   "cell_type": "code",
   "execution_count": 119,
   "id": "8839b65b-6a16-4016-9e37-de1ad7aaab9f",
   "metadata": {},
   "outputs": [
    {
     "data": {
      "text/plain": [
       "array([[8, 3, 0],\n",
       "       [0, 9, 3],\n",
       "       [6, 1, 2]])"
      ]
     },
     "execution_count": 119,
     "metadata": {},
     "output_type": "execute_result"
    }
   ],
   "source": [
    "array1"
   ]
  },
  {
   "cell_type": "code",
   "execution_count": 122,
   "id": "48d91527-e371-4ede-b8a4-bf5d6ab91583",
   "metadata": {},
   "outputs": [
    {
     "data": {
      "text/plain": [
       "array([[False, False, False],\n",
       "       [False, False, False],\n",
       "       [False, False, False],\n",
       "       [False, False,  True]])"
      ]
     },
     "execution_count": 122,
     "metadata": {},
     "output_type": "execute_result"
    }
   ],
   "source": [
    "array3 == array4"
   ]
  },
  {
   "cell_type": "code",
   "execution_count": 123,
   "id": "f46845e6-315f-4f95-9e17-a3bdb99d7117",
   "metadata": {},
   "outputs": [
    {
     "data": {
      "text/plain": [
       "array([[1, 1, 5],\n",
       "       [0, 4, 6],\n",
       "       [0, 1, 2],\n",
       "       [4, 5, 9]])"
      ]
     },
     "execution_count": 123,
     "metadata": {},
     "output_type": "execute_result"
    }
   ],
   "source": [
    "np.sort(array3)"
   ]
  },
  {
   "cell_type": "code",
   "execution_count": 124,
   "id": "2755d8ee-2660-43b1-8d3f-0e70613f2907",
   "metadata": {},
   "outputs": [
    {
     "data": {
      "text/plain": [
       "array([[0, 1, 2],\n",
       "       [2, 1, 0],\n",
       "       [0, 2, 1],\n",
       "       [0, 2, 1]], dtype=int64)"
      ]
     },
     "execution_count": 124,
     "metadata": {},
     "output_type": "execute_result"
    }
   ],
   "source": [
    "np.argsort(array3)"
   ]
  },
  {
   "cell_type": "code",
   "execution_count": 125,
   "id": "41ada61e-51ec-41d8-a7bc-2dcf45657de9",
   "metadata": {},
   "outputs": [
    {
     "data": {
      "text/plain": [
       "10"
      ]
     },
     "execution_count": 125,
     "metadata": {},
     "output_type": "execute_result"
    }
   ],
   "source": [
    "np.argmax(array3)"
   ]
  },
  {
   "cell_type": "code",
   "execution_count": 126,
   "id": "539c16c4-46f7-400e-9812-e38fddf53052",
   "metadata": {},
   "outputs": [
    {
     "data": {
      "text/plain": [
       "array([[1, 1, 5],\n",
       "       [6, 4, 0],\n",
       "       [0, 2, 1],\n",
       "       [4, 9, 5]])"
      ]
     },
     "execution_count": 126,
     "metadata": {},
     "output_type": "execute_result"
    }
   ],
   "source": [
    "array3"
   ]
  },
  {
   "cell_type": "code",
   "execution_count": 127,
   "id": "9feb775e-53d0-4db6-b346-1eb74b6bb2c8",
   "metadata": {},
   "outputs": [
    {
     "data": {
      "text/plain": [
       "5"
      ]
     },
     "execution_count": 127,
     "metadata": {},
     "output_type": "execute_result"
    }
   ],
   "source": [
    "np.argmin(array3)"
   ]
  },
  {
   "cell_type": "code",
   "execution_count": 128,
   "id": "d648d3ea-e104-4205-9102-3ce39c7b7598",
   "metadata": {},
   "outputs": [
    {
     "data": {
      "text/plain": [
       "array([2, 0, 1, 1], dtype=int64)"
      ]
     },
     "execution_count": 128,
     "metadata": {},
     "output_type": "execute_result"
    }
   ],
   "source": [
    "np.argmax(array3,axis =1)"
   ]
  },
  {
   "cell_type": "code",
   "execution_count": 129,
   "id": "5a61f648-5c7f-4314-941c-fa98d937dfb8",
   "metadata": {},
   "outputs": [
    {
     "data": {
      "text/plain": [
       "array([2, 0, 1], dtype=int64)"
      ]
     },
     "execution_count": 129,
     "metadata": {},
     "output_type": "execute_result"
    }
   ],
   "source": [
    "np.argmin(array3,axis = 0)"
   ]
  },
  {
   "cell_type": "code",
   "execution_count": 130,
   "id": "77650040-1c50-4595-aa2e-743d9e090c16",
   "metadata": {},
   "outputs": [
    {
     "data": {
      "text/plain": [
       "array([[ 0.48197914,  0.92645636, -0.83758139,  0.67718607,  1.87231912],\n",
       "       [ 0.39637394, -0.6256163 , -0.52246148,  0.0130339 ,  0.37776959],\n",
       "       [ 0.0628246 ,  0.50159637, -0.14694539,  0.18062297,  0.96481058]])"
      ]
     },
     "execution_count": 130,
     "metadata": {},
     "output_type": "execute_result"
    }
   ],
   "source": [
    "np.random.randn(3,5)"
   ]
  },
  {
   "cell_type": "code",
   "execution_count": 132,
   "id": "e600f526-a1d2-44fe-b11a-9fe46e417ba3",
   "metadata": {},
   "outputs": [
    {
     "data": {
      "text/plain": [
       "array([  1.,  12.,  23.,  34.,  45.,  56.,  67.,  78.,  89., 100.])"
      ]
     },
     "execution_count": 132,
     "metadata": {},
     "output_type": "execute_result"
    }
   ],
   "source": [
    "np.linspace(1,100,10)"
   ]
  },
  {
   "cell_type": "code",
   "execution_count": null,
   "id": "1b61a8bf-5a8e-4335-932d-2b915931fbfa",
   "metadata": {},
   "outputs": [],
   "source": []
  }
 ],
 "metadata": {
  "kernelspec": {
   "display_name": "Python 3 (ipykernel)",
   "language": "python",
   "name": "python3"
  },
  "language_info": {
   "codemirror_mode": {
    "name": "ipython",
    "version": 3
   },
   "file_extension": ".py",
   "mimetype": "text/x-python",
   "name": "python",
   "nbconvert_exporter": "python",
   "pygments_lexer": "ipython3",
   "version": "3.12.2"
  }
 },
 "nbformat": 4,
 "nbformat_minor": 5
}
